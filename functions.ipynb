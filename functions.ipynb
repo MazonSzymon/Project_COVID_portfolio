{
  "nbformat": 4,
  "nbformat_minor": 0,
  "metadata": {
    "colab": {
      "name": "functions",
      "provenance": [],
      "collapsed_sections": [
        "kx5djPQWLKzD",
        "DuIKY1YGgX_M",
        "NmSqbv74lutr",
        "k2cTLrFyeJ4W",
        "Si25q3YEflQd",
        "OzRk7LLzhMnW",
        "ccq95r0FObbk",
        "xw3oke_V5JdD",
        "5tnhE74_o5Ux",
        "yo672lTDphDz",
        "yVyJzo0x1uJj"
      ],
      "authorship_tag": "ABX9TyOrFpUcQ02pTYLb6IorO/FH",
      "include_colab_link": true
    },
    "kernelspec": {
      "name": "python3",
      "display_name": "Python 3"
    }
  },
  "cells": [
    {
      "cell_type": "markdown",
      "metadata": {
        "id": "view-in-github",
        "colab_type": "text"
      },
      "source": [
        "<a href=\"https://colab.research.google.com/github/MazonSzymon/Project_COVID_portfolio/blob/main/functions.ipynb\" target=\"_parent\"><img src=\"https://colab.research.google.com/assets/colab-badge.svg\" alt=\"Open In Colab\"/></a>"
      ]
    },
    {
      "cell_type": "markdown",
      "metadata": {
        "id": "kx5djPQWLKzD"
      },
      "source": [
        "\n",
        "\n",
        "#  ***Analysis of investing at GPW in 2020*** \n",
        "\n",
        "---\n",
        "\n",
        "\n",
        "\n",
        "\n",
        "\n",
        "\n",
        "\n",
        "\n",
        "\n",
        "\n",
        "\n"
      ]
    },
    {
      "cell_type": "markdown",
      "metadata": {
        "id": "T4ofSBEZIfRk"
      },
      "source": [
        "#Downloading libraries and creating wig20 table"
      ]
    },
    {
      "cell_type": "code",
      "metadata": {
        "id": "m174lwvkIyIZ"
      },
      "source": [
        "import pandas as pd\n",
        "import numpy as np\n",
        "import matplotlib.pyplot as plt\n",
        "import datetime as dt\n",
        "import pandas_datareader as pdr \n",
        "%load_ext google.colab.data_table"
      ],
      "execution_count": null,
      "outputs": []
    },
    {
      "cell_type": "code",
      "metadata": {
        "id": "kLsFdVo5hEjj"
      },
      "source": [
        "#Set up plot\n",
        "from cycler import cycler\n",
        "plt.style.use('ggplot')\n",
        "plt.rc('axes', facecolor='white', edgecolor='black', grid = False, axisbelow = True)\n",
        "plt.rc('grid',color='gray', linestyle='solid', linewidth=0.5)\n",
        "plt.rc('patch', edgecolor='black')\n",
        "plt.rc('legend', shadow=True, handlelength=1, fontsize=10, edgecolor = 'black', facecolor='white')\n"
      ],
      "execution_count": null,
      "outputs": []
    },
    {
      "cell_type": "code",
      "metadata": {
        "id": "wN8u24I9Ttf_"
      },
      "source": [
        "#Creat a DataFrame with names of WIG 20 one joint stock company\n",
        "stocks_at_WIG20 = pd.DataFrame(np.array([\n",
        "    ['WIG20' , 'wig20.pl'],\n",
        "    ['Alior Bank' , 'alr.pl'],\n",
        "    ['CCC' , 'ccc.pl'],\n",
        "    ['CD Projekt' , 'cdr.pl'],\n",
        "    ['Cyfrowy Polsat SA' , 'cps.pl'],\n",
        "    ['Dino Polska' , 'dnp.pl'],\n",
        "    ['Jastrzebska Spolka Weglowa' , 'jsw.pl'],\n",
        "    ['KGHM Polska Mied' , 'kgh.pl'],\n",
        "    ['LPP' , 'lpp.pl'],\n",
        "    ['Grupa Lotos SA' , 'lts.pl'],\n",
        "    ['mBank' , 'mbk.pl'],\n",
        "    ['Orange Polska' , 'opl.pl'],\n",
        "    ['Bank Polska Kasa Opieki' , 'peo.pl'],\n",
        "    ['PGE Polska Grupa Energetyczna' , 'pge.pl'],\n",
        "    ['Polskie Gronictwo Naftowe i Gazownictwo' , 'pgn.pl'],\n",
        "    ['Powszechna Kasa Oszczednosci Bank Polski' , 'pko.pl'],\n",
        "    ['Play Communications SA' , 'ply.pl'],\n",
        "    ['Powszechny Zaklad Ubezpieczen' , 'pzu.pl'],\n",
        "    ['Santander Bank Polska' , 'spl.pl'],\n",
        "    ['Tauron Polska Energia' , 'tpe.pl']\n",
        "    ]), columns = ['Full_name','Short_name'])"
      ],
      "execution_count": null,
      "outputs": []
    },
    {
      "cell_type": "markdown",
      "metadata": {
        "id": "tZQ2HzQASgmy"
      },
      "source": [
        "# Functions"
      ]
    },
    {
      "cell_type": "markdown",
      "metadata": {
        "id": "DuIKY1YGgX_M"
      },
      "source": [
        "> ## Downloading data"
      ]
    },
    {
      "cell_type": "code",
      "metadata": {
        "id": "niTyVM56f4ru"
      },
      "source": [
        "def get_data(stock,start_date, end_date):\n",
        "  stooq_data = pdr.get_data_stooq(stock['Short_name'], start = start_date, end = end_date).sort_index()\n",
        "  stooq_data['Stock_name'] = stock['Full_name']\n",
        "  df = stooq_data.copy()\n",
        "  df.rename(columns = { stock['Short_name'] : 'stooq_data'},inplace = True)\n",
        "  return df"
      ],
      "execution_count": null,
      "outputs": []
    },
    {
      "cell_type": "markdown",
      "metadata": {
        "id": "5ICZVYyH2gsb"
      },
      "source": [
        ">## WIG20 Tabel"
      ]
    },
    {
      "cell_type": "markdown",
      "metadata": {
        "id": "NmSqbv74lutr"
      },
      "source": [
        ">> ### Creating WIG20 frame"
      ]
    },
    {
      "cell_type": "code",
      "metadata": {
        "id": "o_Ihjmx22gIa"
      },
      "source": [
        "def WIG20_frame(start_date,end_date):\n",
        "  WIG20 = pd.DataFrame()\n",
        "  for i in range(len(stocks_at_WIG20)):\n",
        "    tmp = get_data(stocks_at_WIG20.iloc[i],start_date,end_date)\n",
        "    WIG20 = WIG20.append(tmp)\n",
        "  return WIG20"
      ],
      "execution_count": null,
      "outputs": []
    },
    {
      "cell_type": "markdown",
      "metadata": {
        "id": "k2cTLrFyeJ4W"
      },
      "source": [
        ">>### Basic information"
      ]
    },
    {
      "cell_type": "code",
      "metadata": {
        "id": "qm4hB8iXeMlc"
      },
      "source": [
        "def stock_info(stock):\n",
        "  df = WIG20_by_stocks.get_group(stock)\n",
        "  print(\"-\"*50)\n",
        "  print(\"5 First and 5 Last records\")\n",
        "  print(\"-\"*50)\n",
        "  print(df.head())\n",
        "  print(\"-\"*50)\n",
        "  print(df.tail())\n",
        "  print(\"-\"*50)\n",
        "  print(\"Basic information about data set\")\n",
        "  print(\"-\"*50)\n",
        "  print(df.info())\n",
        "  print(\"-\"*50)\n",
        "  print(\"Basic statistic about data\")\n",
        "  print(\"-\"*50)\n",
        "  print(df.describe())\n",
        "  print(\"-\"*50+\"\\n\")"
      ],
      "execution_count": null,
      "outputs": []
    },
    {
      "cell_type": "markdown",
      "metadata": {
        "id": "Si25q3YEflQd"
      },
      "source": [
        ">>### Visualization of stock actions"
      ]
    },
    {
      "cell_type": "code",
      "metadata": {
        "id": "5QF4MIr3fpzV"
      },
      "source": [
        "def stock_visualization(stock):\n",
        "  df = WIG20_by_stocks.get_group(stock)\n",
        "  plt.figure(figsize=(28,8))\n",
        "  #1 Visualization close value\n",
        "  plt.subplot(1,2,1)\n",
        "  plt.plot(df['Close'], color = 'blue')\n",
        "  plt.title(stock + \" close value\")\n",
        "  plt.grid()\n",
        "  #2 Visulization volume value\n",
        "  plt.subplot(1,2,2)\n",
        "  plt.plot(df['Volume'], color = 'green')\n",
        "  plt.title(stock + ' volume value')\n",
        "  plt.grid()\n",
        "  return plt.show()"
      ],
      "execution_count": null,
      "outputs": []
    },
    {
      "cell_type": "markdown",
      "metadata": {
        "id": "OzRk7LLzhMnW"
      },
      "source": [
        ">> ### Relative change"
      ]
    },
    {
      "cell_type": "code",
      "metadata": {
        "id": "FcWPIFzJhPJe"
      },
      "source": [
        "def stock_rate(stock):\n",
        "  df = WIG20_by_stocks.get_group(stock)\n",
        "  plt.figure(figsize=(28,8))\n",
        "  #1 Visualization Rate of Return\n",
        "  plt.subplot(121)\n",
        "  plt.plot(np.log(df['Close'].pct_change()+1), color = 'blue')\n",
        "  plt.title(stock + \" Rate of Return\")\n",
        "  plt.grid()\n",
        "  #2 Histogram Rate of Return\n",
        "  plt.subplot(122)\n",
        "  plt.hist(np.log(df['Close'].pct_change()+1), color = 'gray', bins = 50)\n",
        "  plt.title(stock + ' Rate of Return')\n",
        "  plt.grid()\n",
        "  return plt.show()"
      ],
      "execution_count": null,
      "outputs": []
    },
    {
      "cell_type": "markdown",
      "metadata": {
        "id": "C-N4GiPlujrK"
      },
      "source": [
        ">## Portfolio"
      ]
    },
    {
      "cell_type": "markdown",
      "metadata": {
        "id": "ccq95r0FObbk"
      },
      "source": [
        ">> ### Creat investment"
      ]
    },
    {
      "cell_type": "code",
      "metadata": {
        "id": "MIybjKQhLUbB"
      },
      "source": [
        "def creat_investment(stocks,investment):\n",
        "  df = pd.DataFrame(columns=['Stock','Value'])\n",
        "  df['Stock'] = stocks\n",
        "  df['Value'] = investment\n",
        "  df['Value'] = df['Value'].astype('float')\n",
        "  df.sort_values('Stock', inplace = True)\n",
        "  return df"
      ],
      "execution_count": null,
      "outputs": []
    },
    {
      "cell_type": "markdown",
      "metadata": {
        "id": "uKxAptFm462b"
      },
      "source": [
        ">> ### Preparing portfolio\n",
        "\n"
      ]
    },
    {
      "cell_type": "code",
      "metadata": {
        "id": "9qaHCavvQPrs"
      },
      "source": [
        "def preparing_portfolio(total_investments,stocks):\n",
        "  \n",
        "  #Get data to stock\n",
        "  def get_frame(stock):\n",
        "    return WIG20_by_stocks.get_group(stock)\n",
        "  \n",
        "  stocks_data = map(get_frame,stocks)\n",
        "  df = pd.concat(stocks_data, keys = stocks, names= ['Stock','Date'])\n",
        "  df = df.reset_index().pivot(index='Date',columns = 'Stock', values = ['Close','Volume'])\n",
        "  portfolio_change = (1 + df[['Close']].pct_change()).cumprod().fillna(1).round(2).rename(columns = {'Close' : 'ROI'})\n",
        "  integrer_of_stocks = (total_investments/df['Close'].iloc[0]).astype(int).values\n",
        "  investment_by_stocks = integrer_of_stocks  * df['Close'].iloc[0]\n",
        "  rest_investment = total_investments - investment_by_stocks.values\n",
        "  rest_investment\n",
        "  investment_value = portfolio_change.multiply(investment_by_stocks.values).rename(columns = {'ROI' : 'Investments_value'}).round(2)\n",
        "  investment_value['Sum_of_investments'] = investment_value.sum(axis=1).round(2)\n",
        "  portfolio_value = pd.concat([df,portfolio_change,investment_value], axis = 1)\n",
        "  portfolio_value['ROI_of_investments'] = (1 + portfolio_value[['Sum_of_investments']].pct_change()).cumprod().fillna(1).round(2)\n",
        "  tmp = portfolio_value.columns.to_frame()['Stock'].values\n",
        "  print(\"-\"*50)\n",
        "  print(\"We first want to inveset {first_invest_value} PLN\".format( first_invest_value = total_investments.sum()))\n",
        "  print(\"We get\")\n",
        "  for i in range(len(integrer_of_stocks)):\n",
        "    print(\"{integrer} stocks {company} for {price} PLN total {total} PLN\".format(\n",
        "        integrer = integrer_of_stocks[i], company = portfolio_value[['Investments_value'][0]].columns[i], price = portfolio_value['Close'].iloc[0][i], total = portfolio_value['Investments_value'][tmp[i]][0]))\n",
        "  print(\"and the rest from investment {rest} PLN\".format(rest = rest_investment.sum().round(2)))\n",
        "  return portfolio_value"
      ],
      "execution_count": null,
      "outputs": []
    },
    {
      "cell_type": "markdown",
      "metadata": {
        "id": "y1sS0mAW5Enk"
      },
      "source": [
        ">> ### portfolio_summary"
      ]
    },
    {
      "cell_type": "code",
      "metadata": {
        "id": "0HUlCMNARnM4"
      },
      "source": [
        "def portfolio_summary(portfolio):\n",
        "  #Stocks list\n",
        "  tmp = portfolio.columns.to_frame()['Stock'].values\n",
        "  portfolio_list = ''\n",
        "  for i in range(int(len(tmp)/4)):\n",
        "    portfolio_list = portfolio_list + tmp[i]\n",
        "    if i < len(tmp)/4 -2:\n",
        "      portfolio_list = portfolio_list + \", \"\n",
        "\n",
        "  #Basic information about investment\n",
        "  print(\"-\"*50)\n",
        "  print(\"At {start_date} We invested {initial_investment_value} PLN, spliced by company\".format(\n",
        "      start_date = portfolio.index[0].date() , initial_investment_value = portfolio['Sum_of_investments'][0]\n",
        "  ))\n",
        "  for i in range(int(len(tmp)/4)):\n",
        "      print(\"{value} PLN at stocks {company}\".format(value = portfolio['Investments_value'][tmp[i]][0], company = tmp[i]))\n",
        "  \n",
        "  #Information about our initial stock \n",
        "  print(\"-\"*50)\n",
        "  print(\"We have \")\n",
        "  for i in range(int(len(tmp)/4)):\n",
        "      print(\"{integrer} stocks {company}\".format(integrer = int(portfolio['Investments_value'][tmp[i]][0]/portfolio['Close'][tmp[i]][i]), company = tmp[i]))\n",
        "  print(\"-\"*50)\n",
        "  print(\"On {end_date} it is all worth {investment_value} PLN,spliced by company\".format(\n",
        "      end_date = portfolio.index[-1].date(), investment_value = portfolio['Sum_of_investments'][-1]\n",
        "  ))\n",
        "  for i in range(int(len(tmp)/4)):\n",
        "      print(\"{value} PLN at stocks {company}\".format(value = portfolio['Investments_value'][tmp[i]][-1], company = tmp[i]))\n",
        "  \n",
        "  print(\"-\"*50)\n",
        "  print(\"Rate of investment is {ROI} %, spliced by comapny\".format(\n",
        "      ROI = ((portfolio['Sum_of_investments'][-1]/portfolio['Sum_of_investments'][0] -1)*100).round(2)\n",
        "  ))\n",
        "  for i in range(int(len(tmp)/4)):\n",
        "      print(\"{ROI} % at stocks {company}\".format(ROI = ((portfolio['Investments_value'][tmp[i]][-1]/portfolio['Investments_value'][tmp[i]][0] -1)*100).round(2), company = tmp[i]))\n",
        "  \n",
        "  print(\"-\"*50 + \"\\n\")\n",
        "  #Graphs\n",
        "  plt.figure( figsize = (28, 8 ))\n",
        "  #1\n",
        "  plt.subplot(121)\n",
        "  for i in range(int(len(tmp)/4)):\n",
        "    plt.plot(portfolio[['Investments_value'][0]][portfolio[['Investments_value'][0]].columns[i]], label = portfolio[['Investments_value'][0]].columns[i])\n",
        "  plt.grid()\n",
        "  plt.legend()\n",
        "  plt.title('Value of investments by stocks')\n",
        "  #2\n",
        "  plt.subplot(122)\n",
        "  plt.plot(portfolio['Sum_of_investments'])\n",
        "  plt.title('Value of investment')\n",
        "  plt.grid()\n",
        "  plt.show()\n",
        "\n",
        "  return"
      ],
      "execution_count": null,
      "outputs": []
    },
    {
      "cell_type": "markdown",
      "metadata": {
        "id": "xw3oke_V5JdD"
      },
      "source": [
        ">> ### Portfolio compare"
      ]
    },
    {
      "cell_type": "code",
      "metadata": {
        "id": "6KBXpdgRrYWs"
      },
      "source": [
        "def portfolio_compare(portfolio, benchmark):\n",
        "  #Stocks list\n",
        "  tmp = portfolio.columns.to_frame()['Stock'].values\n",
        "  portfolio_list = ''\n",
        "  for i in range(int(len(tmp)/4)):\n",
        "    portfolio_list = portfolio_list + tmp[i]\n",
        "    if i < len(tmp)/4 -2:\n",
        "      portfolio_list = portfolio_list + \", \"\n",
        "  \n",
        "  tmp = benchmark.columns.to_frame()['Stock'].values\n",
        "  benchmark_list = ''\n",
        "  for i in range(int(len(tmp)/4)):\n",
        "    benchmark_list = benchmark_list + tmp[i]\n",
        "    if i < len(tmp)/5 -2:\n",
        "      benchmark_list = benchmark_list + \", \"\n",
        "  \n",
        "\n",
        "  #compare\n",
        "  print(\"-\"*50)\n",
        "  print(\"At {start_date} We invested {initial_investment_value} PLN at {stocks}\".format(\n",
        "      start_date = portfolio.index[0].date() , initial_investment_value = portfolio['Sum_of_investments'][0], stocks = portfolio_list\n",
        "  ))\n",
        "  print(\"-\"*50)\n",
        "  print(\"On {end_date} is worth {investment_value} PLN, Rate of investment is {ROI} %\".format(\n",
        "      end_date = portfolio.index[-1].date(), investment_value = portfolio['Sum_of_investments'][-1],\n",
        "      ROI = ((portfolio['Sum_of_investments'][-1]/portfolio['Sum_of_investments'][0] -1)*100).round(2)\n",
        "  ))\n",
        "  \n",
        "     \n",
        "  print(\"Ratio investment to benchmark is {change}%\".format(\n",
        "     change = ((portfolio['Sum_of_investments'][-1]/benchmark['Sum_of_investments'][-1] - 1)*100).round(2)))\n",
        "  print(\"-\"*50+ \"\\n\")\n",
        "  #graphs\n",
        "  plt.figure(figsize=(15,10))\n",
        "  plt.plot(portfolio['Sum_of_investments'], color = 'green', label = portfolio_list)\n",
        "  plt.plot(benchmark['Sum_of_investments'], color = 'red',label = benchmark_list)\n",
        "  plt.title(\"Value of investment \" + portfolio_list, fontsize = 22, fontweight=\"bold\")\n",
        "  plt.grid()\n",
        "  plt.legend()\n",
        "\n",
        "  return"
      ],
      "execution_count": null,
      "outputs": []
    },
    {
      "cell_type": "markdown",
      "metadata": {
        "id": "5tnhE74_o5Ux"
      },
      "source": [
        ">>###Change interval"
      ]
    },
    {
      "cell_type": "code",
      "metadata": {
        "id": "jRFbH6WLlNtK"
      },
      "source": [
        "def change_interval(portfolio):\n",
        "  print(\"-\"*50)\n",
        "  print(\"Week's mean\" + \"\\n\")\n",
        "  print(portfolio.resample('W').mean().tail())\n",
        "  \n",
        "  print(\"-\"*50+\"\\n\")\n",
        "  print(\"Month's last value\" + \"\\n\")\n",
        "  print(portfolio.resample('M').last().tail())\n",
        "  print(\"-\"*50)\n",
        "  return "
      ],
      "execution_count": null,
      "outputs": []
    },
    {
      "cell_type": "markdown",
      "metadata": {
        "id": "yo672lTDphDz"
      },
      "source": [
        ">>### Visualization of stock actions at our portfolio"
      ]
    },
    {
      "cell_type": "code",
      "metadata": {
        "id": "7e2NN-GWmeql"
      },
      "source": [
        "def portfolio_visualization(portfolio):\n",
        "  tmp = portfolio.columns.to_frame()['Stock'].values\n",
        "  plt.figure( figsize = (28, 8 ))\n",
        "  #1\n",
        "  plt.subplot(121)\n",
        "  for i in range(int(len(tmp)/4)):\n",
        "    plt.plot(portfolio[['Close'][0]][portfolio[['Close'][0]].columns[i]], label = portfolio[['Close'][0]].columns[i])\n",
        "  plt.grid()\n",
        "  plt.legend()\n",
        "  plt.title('Value of  by stocks')\n",
        "  #2\n",
        "  plt.subplot(122)\n",
        "  plt.plot(portfolio['Sum_of_investments'])\n",
        "  plt.title('Value of investment')\n",
        "  plt.grid()\n",
        "  return plt.show()"
      ],
      "execution_count": null,
      "outputs": []
    },
    {
      "cell_type": "markdown",
      "metadata": {
        "id": "yVyJzo0x1uJj"
      },
      "source": [
        ">>### Relative change our portfolio"
      ]
    },
    {
      "cell_type": "code",
      "metadata": {
        "id": "IzoXeOes1xSy"
      },
      "source": [
        "def portfolio_rate(portfolio):\n",
        "  tmp = portfolio.columns.to_frame()['Stock'].values\n",
        "\n",
        "  # Graphs\n",
        "  for i in range(int(len(tmp)/4)):\n",
        "    if (i) > len(tmp)/2-1:\n",
        "      break\n",
        "    else:\n",
        "      #1\n",
        "      plt.figure(figsize=(28,8))\n",
        "      for k in range(0,2):\n",
        "        if (k+i*2) > int(len(tmp)/4)-1:\n",
        "          break\n",
        "        else:\n",
        "          plt.plot(np.log(portfolio['Close'].pct_change()+1)[portfolio[['Close'][0]].columns[i*2 + k]], label = portfolio[['Close'][0]].columns[i*2+k])\n",
        "          plt.grid()\n",
        "          plt.legend()\n",
        "          plt.title('ROI')\n",
        "      plt.show()\n",
        "      #2 \n",
        "      plt.figure(figsize=(28,8))\n",
        "      for k in range(0,2):\n",
        "        if (k+i*2) > int(len(tmp)/4)-1:\n",
        "          break\n",
        "        else:\n",
        "          plt.subplot(121 + k)\n",
        "          plt.hist(np.log(portfolio['Close'].pct_change()+1)[portfolio[['Close'][0]].columns[i*2 + k]], label = portfolio[['Close'][0]].columns[i*2+k])\n",
        "          plt.grid()\n",
        "          plt.legend()\n",
        "          plt.title('ROI')\n",
        "      plt.show()\n",
        "\n",
        "\n",
        "  return plt.show()"
      ],
      "execution_count": null,
      "outputs": []
    }
  ]
}