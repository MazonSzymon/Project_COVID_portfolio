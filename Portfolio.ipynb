{
  "nbformat": 4,
  "nbformat_minor": 0,
  "metadata": {
    "colab": {
      "name": "Portfolio.ipynb",
      "provenance": [],
      "collapsed_sections": [
        "ECKKL4exdB0B"
      ],
      "authorship_tag": "ABX9TyOA7SHfEfGEqTZP5bYZMgij",
      "include_colab_link": true
    },
    "kernelspec": {
      "name": "python3",
      "display_name": "Python 3"
    }
  },
  "cells": [
    {
      "cell_type": "markdown",
      "metadata": {
        "id": "view-in-github",
        "colab_type": "text"
      },
      "source": [
        "<a href=\"https://colab.research.google.com/github/MazonSzymon/Project_COVID_portfolio/blob/main/Portfolio.ipynb\" target=\"_parent\"><img src=\"https://colab.research.google.com/assets/colab-badge.svg\" alt=\"Open In Colab\"/></a>"
      ]
    },
    {
      "cell_type": "markdown",
      "metadata": {
        "id": "5OH6k6Y_c_Dc"
      },
      "source": [
        "#  ***Analysis of investing at GPW in 2020*** \n",
        "\n",
        "---\n"
      ]
    },
    {
      "cell_type": "markdown",
      "metadata": {
        "id": "ECKKL4exdB0B"
      },
      "source": [
        "#Downloading libraries and creating wig20 table"
      ]
    },
    {
      "cell_type": "code",
      "metadata": {
        "id": "oOnoyQJIclDc",
        "outputId": "5364a162-5d1a-4011-bb78-bcdec7d270f3",
        "colab": {
          "base_uri": "https://localhost:8080/",
          "height": 121
        }
      },
      "source": [
        "!git clone https://github.com/MazonSzymon/Project_COVID_portfolio.git\n",
        "import sys\n",
        "sys.path.append('/content/Project_COVID_portfolio/')\n",
        "import pandas as pd\n",
        "import numpy as np\n",
        "import matplotlib.pyplot as plt\n",
        "import datetime as dt\n",
        "import pandas_datareader as pdr \n",
        "%load_ext google.colab.data_table\n",
        "import functions as WIG20 # My own functions\n",
        "#Set up plot\n",
        "from cycler import cycler\n",
        "plt.style.use('ggplot')\n",
        "plt.rc('axes', facecolor='white', edgecolor='black', grid = False, axisbelow = True)\n",
        "plt.rc('grid',color='gray', linestyle='solid', linewidth=0.5)\n",
        "plt.rc('patch', edgecolor='black')\n",
        "plt.rc('legend', shadow=True, handlelength=1, fontsize=10, edgecolor = 'black', facecolor='white')"
      ],
      "execution_count": 1,
      "outputs": [
        {
          "output_type": "stream",
          "text": [
            "Cloning into 'Project_COVID_portfolio'...\n",
            "remote: Enumerating objects: 97, done.\u001b[K\n",
            "remote: Counting objects: 100% (97/97), done.\u001b[K\n",
            "remote: Compressing objects: 100% (95/95), done.\u001b[K\n",
            "remote: Total 97 (delta 43), reused 0 (delta 0), pack-reused 0\u001b[K\n",
            "Unpacking objects: 100% (97/97), done.\n"
          ],
          "name": "stdout"
        }
      ]
    },
    {
      "cell_type": "code",
      "metadata": {
        "id": "dX8rdNsLdFik",
        "outputId": "2109a27b-d91c-475b-b8b4-f7b33741d606",
        "colab": {
          "base_uri": "https://localhost:8080/",
          "height": 203
        }
      },
      "source": [
        "WIG20.WIG20_tabel.head()"
      ],
      "execution_count": 3,
      "outputs": [
        {
          "output_type": "execute_result",
          "data": {
            "application/vnd.google.colaboratory.module+javascript": "\n      import \"https://ssl.gstatic.com/colaboratory/data_table/a6224c040fa35dcf/data_table.js\";\n\n      window.createDataTable({\n        data: [[\"2020-01-02 00:00:00\",\n{\n            'v': 2161.55,\n            'f': \"2161.55\",\n        },\n{\n            'v': 2200.57,\n            'f': \"2200.57\",\n        },\n{\n            'v': 2161.42,\n            'f': \"2161.42\",\n        },\n{\n            'v': 2200.1,\n            'f': \"2200.1\",\n        },\n{\n            'v': 21369888,\n            'f': \"21369888\",\n        },\n\"WIG20\"],\n [\"2020-01-03 00:00:00\",\n{\n            'v': 2192.31,\n            'f': \"2192.31\",\n        },\n{\n            'v': 2192.31,\n            'f': \"2192.31\",\n        },\n{\n            'v': 2159.03,\n            'f': \"2159.03\",\n        },\n{\n            'v': 2173.97,\n            'f': \"2173.97\",\n        },\n{\n            'v': 20627251,\n            'f': \"20627251\",\n        },\n\"WIG20\"],\n [\"2020-01-07 00:00:00\",\n{\n            'v': 2171.72,\n            'f': \"2171.72\",\n        },\n{\n            'v': 2176.8,\n            'f': \"2176.8\",\n        },\n{\n            'v': 2143.11,\n            'f': \"2143.11\",\n        },\n{\n            'v': 2145.01,\n            'f': \"2145.01\",\n        },\n{\n            'v': 19556434,\n            'f': \"19556434\",\n        },\n\"WIG20\"],\n [\"2020-01-08 00:00:00\",\n{\n            'v': 2140.29,\n            'f': \"2140.29\",\n        },\n{\n            'v': 2140.29,\n            'f': \"2140.29\",\n        },\n{\n            'v': 2114.24,\n            'f': \"2114.24\",\n        },\n{\n            'v': 2115.99,\n            'f': \"2115.99\",\n        },\n{\n            'v': 20739943,\n            'f': \"20739943\",\n        },\n\"WIG20\"],\n [\"2020-01-09 00:00:00\",\n{\n            'v': 2132.02,\n            'f': \"2132.02\",\n        },\n{\n            'v': 2157.61,\n            'f': \"2157.61\",\n        },\n{\n            'v': 2132.02,\n            'f': \"2132.02\",\n        },\n{\n            'v': 2157.61,\n            'f': \"2157.61\",\n        },\n{\n            'v': 19887696,\n            'f': \"19887696\",\n        },\n\"WIG20\"]],\n        columns: [[\"string\", \"Date\"], [\"number\", \"Open\"], [\"number\", \"High\"], [\"number\", \"Low\"], [\"number\", \"Close\"], [\"number\", \"Volume\"], [\"string\", \"Stock_name\"]],\n        columnOptions: [{\"width\": \"1px\", \"className\": \"index_column\"}],\n        rowsPerPage: 25,\n        helpUrl: \"https://colab.research.google.com/notebooks/data_table.ipynb\",\n        suppressOutputScrolling: true,\n        minimumWidth: undefined,\n      });\n    ",
            "text/html": [
              "<div>\n",
              "<style scoped>\n",
              "    .dataframe tbody tr th:only-of-type {\n",
              "        vertical-align: middle;\n",
              "    }\n",
              "\n",
              "    .dataframe tbody tr th {\n",
              "        vertical-align: top;\n",
              "    }\n",
              "\n",
              "    .dataframe thead th {\n",
              "        text-align: right;\n",
              "    }\n",
              "</style>\n",
              "<table border=\"1\" class=\"dataframe\">\n",
              "  <thead>\n",
              "    <tr style=\"text-align: right;\">\n",
              "      <th></th>\n",
              "      <th>Open</th>\n",
              "      <th>High</th>\n",
              "      <th>Low</th>\n",
              "      <th>Close</th>\n",
              "      <th>Volume</th>\n",
              "      <th>Stock_name</th>\n",
              "    </tr>\n",
              "    <tr>\n",
              "      <th>Date</th>\n",
              "      <th></th>\n",
              "      <th></th>\n",
              "      <th></th>\n",
              "      <th></th>\n",
              "      <th></th>\n",
              "      <th></th>\n",
              "    </tr>\n",
              "  </thead>\n",
              "  <tbody>\n",
              "    <tr>\n",
              "      <th>2020-01-02</th>\n",
              "      <td>2161.55</td>\n",
              "      <td>2200.57</td>\n",
              "      <td>2161.42</td>\n",
              "      <td>2200.10</td>\n",
              "      <td>21369888</td>\n",
              "      <td>WIG20</td>\n",
              "    </tr>\n",
              "    <tr>\n",
              "      <th>2020-01-03</th>\n",
              "      <td>2192.31</td>\n",
              "      <td>2192.31</td>\n",
              "      <td>2159.03</td>\n",
              "      <td>2173.97</td>\n",
              "      <td>20627251</td>\n",
              "      <td>WIG20</td>\n",
              "    </tr>\n",
              "    <tr>\n",
              "      <th>2020-01-07</th>\n",
              "      <td>2171.72</td>\n",
              "      <td>2176.80</td>\n",
              "      <td>2143.11</td>\n",
              "      <td>2145.01</td>\n",
              "      <td>19556434</td>\n",
              "      <td>WIG20</td>\n",
              "    </tr>\n",
              "    <tr>\n",
              "      <th>2020-01-08</th>\n",
              "      <td>2140.29</td>\n",
              "      <td>2140.29</td>\n",
              "      <td>2114.24</td>\n",
              "      <td>2115.99</td>\n",
              "      <td>20739943</td>\n",
              "      <td>WIG20</td>\n",
              "    </tr>\n",
              "    <tr>\n",
              "      <th>2020-01-09</th>\n",
              "      <td>2132.02</td>\n",
              "      <td>2157.61</td>\n",
              "      <td>2132.02</td>\n",
              "      <td>2157.61</td>\n",
              "      <td>19887696</td>\n",
              "      <td>WIG20</td>\n",
              "    </tr>\n",
              "  </tbody>\n",
              "</table>\n",
              "</div>"
            ],
            "text/plain": [
              "               Open     High      Low    Close    Volume Stock_name\n",
              "Date                                                               \n",
              "2020-01-02  2161.55  2200.57  2161.42  2200.10  21369888      WIG20\n",
              "2020-01-03  2192.31  2192.31  2159.03  2173.97  20627251      WIG20\n",
              "2020-01-07  2171.72  2176.80  2143.11  2145.01  19556434      WIG20\n",
              "2020-01-08  2140.29  2140.29  2114.24  2115.99  20739943      WIG20\n",
              "2020-01-09  2132.02  2157.61  2132.02  2157.61  19887696      WIG20"
            ]
          },
          "metadata": {
            "tags": []
          },
          "execution_count": 3
        }
      ]
    },
    {
      "cell_type": "markdown",
      "metadata": {
        "id": "6HhLPWchdDK5"
      },
      "source": [
        "# Portfolio\n"
      ]
    },
    {
      "cell_type": "code",
      "metadata": {
        "id": "X3nXCWWOc03L",
        "outputId": "39b6dd65-006a-4be3-8f31-6fd1598fa3fc",
        "colab": {
          "base_uri": "https://localhost:8080/",
          "height": 243
        }
      },
      "source": [
        "#Our Investment\n",
        "stocks = ['Alior Bank','mBank','Dino Polska','CD Projekt']\n",
        "values_investment = [1250,1250,2500,5000]\n",
        "investment = WIG20.creat_investment(stocks,values_investment) # With columns Stock - stocks and Value - value_investment\n",
        "\n",
        "#Benchmark\n",
        "benchmark = ['WIG20']\n",
        "sum_investment = investment['Value'].sum() # If Benchmark have more than one company change like up\n",
        "\n",
        "#Date our investment\n",
        "date = dt.datetime(2020,6,1)\n",
        "\n",
        "#Creat portfolio\n",
        "bemchmark_portfolio = WIG20.preparing_portfolio_by_date(sum_investment,benchmark,dt.datetime(2020,6,1))\n",
        "my_portfolio = WIG20.preparing_portfolio_by_date(investment['Value'].values, investment['Stock'],dt.datetime(2020,6,1))"
      ],
      "execution_count": 2,
      "outputs": [
        {
          "output_type": "stream",
          "text": [
            "--------------------------------------------------\n",
            "At 2020-06-01 We first want to inveset 10000.0 PLN\n",
            "We get\n",
            "5 stocks WIG20 for 1733.52 PLN total 8667.6 PLN\n",
            "and the rest from investment 1332.4 PLN\n",
            "--------------------------------------------------\n",
            "At 2020-06-01 We first want to inveset 10000.0 PLN\n",
            "We get\n",
            "84 stocks Alior Bank for 14.765 PLN total 1240.26 PLN\n",
            "12 stocks CD Projekt for 396.9 PLN total 4762.8 PLN\n",
            "13 stocks Dino Polska for 182.8 PLN total 2376.4 PLN\n",
            "5 stocks mBank for 213.6 PLN total 1068.0 PLN\n",
            "and the rest from investment 552.54 PLN\n"
          ],
          "name": "stdout"
        }
      ]
    }
  ]
}